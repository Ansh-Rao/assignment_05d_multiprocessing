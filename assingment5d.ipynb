{
 "cells": [
  {
   "cell_type": "markdown",
   "id": "67169042-fd08-4f2c-acfb-17439310854d",
   "metadata": {},
   "source": [
    "#### Q1. What is multiprocessing in python? Why is it useful?"
   ]
  },
  {
   "cell_type": "code",
   "execution_count": 1,
   "id": "fdc4ea2e-100f-45d7-acb1-a01dfc931eb8",
   "metadata": {},
   "outputs": [],
   "source": [
    "# Multiprocessing refers to the ability of a system to support more than one processor at the same time."
   ]
  },
  {
   "cell_type": "code",
   "execution_count": 2,
   "id": "b363ea3a-1aae-46e0-8ed1-09d160e11148",
   "metadata": {},
   "outputs": [],
   "source": [
    "# It is useful because it speeding up your code and handling large datasets and tasks."
   ]
  },
  {
   "cell_type": "code",
   "execution_count": null,
   "id": "5eb79692-b281-43aa-ad24-7a395d79351c",
   "metadata": {},
   "outputs": [],
   "source": []
  },
  {
   "cell_type": "markdown",
   "id": "a3ff8ecd-b7a8-4ac1-9d74-36d184056b40",
   "metadata": {},
   "source": [
    "#### Q2. What are the differences between multiprocessing and multithreading?"
   ]
  },
  {
   "cell_type": "code",
   "execution_count": 4,
   "id": "44e6ad5c-3d47-4e42-a1e8-d9488256b662",
   "metadata": {},
   "outputs": [],
   "source": [
    "#  Multiprocessing:-\n",
    "\n",
    "# - Multiprocessing uses two or more CPUs to increase computing power, \n",
    "# - It increases computing power by adding CPUs.\n"
   ]
  },
  {
   "cell_type": "code",
   "execution_count": 5,
   "id": "f7863328-ad20-4f70-a354-58070a5c23eb",
   "metadata": {},
   "outputs": [],
   "source": [
    "# Multithreading:-\n",
    "\n",
    "# - Multithreading focuses on generating computing threads from a single process,\n",
    "# - It uses a single process with multiple code segments to increase computing power\n",
    " "
   ]
  },
  {
   "cell_type": "code",
   "execution_count": null,
   "id": "ae11c76a-c227-4651-8d82-0b107e690ca1",
   "metadata": {},
   "outputs": [],
   "source": []
  },
  {
   "cell_type": "markdown",
   "id": "cc45852c-8d8d-4494-bbf2-2a316faaad98",
   "metadata": {},
   "source": [
    "#### Q3. Write a python code to create a process using the multiprocessing module."
   ]
  },
  {
   "cell_type": "code",
   "execution_count": 10,
   "id": "9e8ab889-5b26-4fdb-9940-b8870837ef48",
   "metadata": {},
   "outputs": [
    {
     "name": "stdout",
     "output_type": "stream",
     "text": [
      "Square: 100\n",
      "Cube: 1000\n",
      "Done!\n"
     ]
    }
   ],
   "source": [
    "import multiprocessing\n",
    "  \n",
    "def print_cube(num):\n",
    "    \n",
    "    print(\"Cube: {}\".format(num * num * num))\n",
    "  \n",
    "def print_square(num):\n",
    "    \n",
    "    print(\"Square: {}\".format(num * num))\n",
    "  \n",
    "if __name__ == \"__main__\":\n",
    "    \n",
    "    p1 = multiprocessing.Process(target=print_square, args=(10, )) \n",
    "    p2 = multiprocessing.Process(target=print_cube, args=(10, )) \n",
    "  \n",
    "    p1.start()\n",
    "    p2.start()\n",
    "  \n",
    "    p1.join()\n",
    "    p2.join()\n",
    "  \n",
    "    print(\"Done!\")"
   ]
  },
  {
   "cell_type": "code",
   "execution_count": null,
   "id": "2a12351d-56b3-4464-9c45-91fd9e57f095",
   "metadata": {},
   "outputs": [],
   "source": []
  },
  {
   "cell_type": "markdown",
   "id": "436daaf2-c51d-49d8-969a-6c27a8d0bb9d",
   "metadata": {},
   "source": [
    "#### Q4. What is a multiprocessing pool in python? Why is it used?"
   ]
  },
  {
   "cell_type": "code",
   "execution_count": 11,
   "id": "6a92e3ed-10da-49d3-9c00-bcaa005d3a24",
   "metadata": {},
   "outputs": [],
   "source": [
    "# The Pool class in multiprocessing can handle an enormous number of processes. It allows you to run multiple jobs per process."
   ]
  },
  {
   "cell_type": "code",
   "execution_count": 12,
   "id": "add6a1d3-ff7e-4d29-b302-8679926aac36",
   "metadata": {},
   "outputs": [],
   "source": [
    "# Multiprocessing Pool can be used for parallel execution of a function across multiple \n",
    "# input values, distributing the input data across processes"
   ]
  },
  {
   "cell_type": "code",
   "execution_count": null,
   "id": "4e940501-f283-4842-8804-0bf302b80308",
   "metadata": {},
   "outputs": [],
   "source": []
  },
  {
   "cell_type": "markdown",
   "id": "524ec3e7-aea8-47ea-a595-09204ed89a5a",
   "metadata": {},
   "source": [
    "#### Q5. How can we create a pool of worker processes in python using the multiprocessing module?\n"
   ]
  },
  {
   "cell_type": "code",
   "execution_count": 25,
   "id": "c0c1d5f3-6fcb-44e7-a642-1e86ab110bcb",
   "metadata": {},
   "outputs": [],
   "source": [
    "# we create a pool of worker processes in python using the multiprocessing module by :-\n",
    "\n",
    "\n",
    "# -Create: Create the process pool by calling the constructor multiprocessing.Pool().\n",
    "# -Submit: Submit tasks synchronously or asynchronously.\n",
    "#      2a. Submit Tasks Synchronously\n",
    "#      2b. Submit Tasks Asynchronously\n",
    "# -Wait: Wait and get results as tasks complete (optional).\n",
    "#      3a. Wait on AsyncResult objects to Complete\n",
    "#      3b. Wait on AsyncResult objects for Result\n",
    "# -Shutdown: Shutdown the process pool by calling shutdown().\n",
    "#      4a. Shutdown Automatically with the Context Manager"
   ]
  },
  {
   "cell_type": "code",
   "execution_count": null,
   "id": "357db686-13af-4558-ba16-6dbbac79015f",
   "metadata": {},
   "outputs": [],
   "source": []
  },
  {
   "cell_type": "markdown",
   "id": "ebca6cf8-8913-45e6-ae0e-ca8d2c9f3a50",
   "metadata": {},
   "source": [
    "#### Q6. Write a python program to create 4 processes, each process should print a different number using the\n",
    "####    multiprocessing module in python."
   ]
  },
  {
   "cell_type": "code",
   "execution_count": 27,
   "id": "dc9d1a15-7199-47fe-b25d-0cfb0b47b77c",
   "metadata": {},
   "outputs": [
    {
     "name": "stdout",
     "output_type": "stream",
     "text": [
      "[1, 4, 9, 16, 25, 36, 49, 64]\n"
     ]
    }
   ],
   "source": [
    "def square(n):\n",
    "    return n**2\n",
    "\n",
    "if __name__== '__main__':\n",
    "    with multiprocessing.Pool(processes=4) as pool:    # pool help to divide the process into multiple parts\n",
    "        out= pool.map(square, [1,2,3,4,5,6,7,8])\n",
    "        print(out)"
   ]
  },
  {
   "cell_type": "code",
   "execution_count": null,
   "id": "75693eee-530b-4c4c-84b3-f3a00279a453",
   "metadata": {},
   "outputs": [],
   "source": []
  }
 ],
 "metadata": {
  "kernelspec": {
   "display_name": "Python 3 (ipykernel)",
   "language": "python",
   "name": "python3"
  },
  "language_info": {
   "codemirror_mode": {
    "name": "ipython",
    "version": 3
   },
   "file_extension": ".py",
   "mimetype": "text/x-python",
   "name": "python",
   "nbconvert_exporter": "python",
   "pygments_lexer": "ipython3",
   "version": "3.10.8"
  }
 },
 "nbformat": 4,
 "nbformat_minor": 5
}
